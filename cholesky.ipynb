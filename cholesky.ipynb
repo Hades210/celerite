{
 "cells": [
  {
   "cell_type": "code",
   "execution_count": 27,
   "metadata": {
    "collapsed": false
   },
   "outputs": [
    {
     "name": "stdout",
     "output_type": "stream",
     "text": [
      "Semiseparable error: 3.552713688986415e-15\n",
      "Cholesky error: 3.552918894473127e-15\n",
      "14.699555675 ((1+0j), 14.699555674959717)\n"
     ]
    }
   ],
   "source": [
    "import numpy as np\n",
    "\n",
    "N = 10\n",
    "J = 8\n",
    "alpha = np.random.rand(J//2) + 1.0j * np.random.rand(J//2)\n",
    "alpha = np.append(alpha, np.conj(alpha))\n",
    "beta = np.random.rand(J//2) + 1.0j * np.random.rand(J//2)\n",
    "beta = np.append(beta, np.conj(beta))\n",
    "t = np.sort(np.random.uniform(0, 100, N))\n",
    "y0 = np.sin(t)\n",
    "u = alpha*np.exp(-beta * t[:, None])\n",
    "v = np.exp(beta * t[:, None])\n",
    "diag = 0.01 + np.sum(alpha) + np.zeros(N)\n",
    "\n",
    "K = np.sum(alpha*np.exp(-beta*np.abs(t[:, None] - t[None, :])[:, :, None]), axis=-1)\n",
    "K[np.diag_indices_from(K)] = diag\n",
    "\n",
    "K0 = np.tril(np.dot(u, v.T), -1) + np.triu(np.dot(v, u.T), 1)\n",
    "K0[np.diag_indices_from(K0)] = diag\n",
    "print(\"Semiseparable error: {0}\".format(np.max(np.abs(K - K0))))\n",
    "\n",
    "# Cholesky method\n",
    "dt = np.diff(t)\n",
    "phi = np.exp(-beta * dt[:, None])\n",
    "D = np.empty(N, dtype=alpha.dtype)\n",
    "X = np.empty((N, J), dtype=alpha.dtype)\n",
    "\n",
    "# Explicit first step\n",
    "D[0] = np.sqrt(diag[0])\n",
    "X[0] = 1.0 / D[0]\n",
    "S = X[0][:, None] * X[0][None, :]\n",
    "\n",
    "# Then the rest\n",
    "for n in range(1, N):\n",
    "    St = phi[n-1][:, None] * phi[n-1][None, :] * S\n",
    "    D[n] = np.sqrt(diag[n] - np.sum(alpha[None, :] * alpha[:, None] * St))\n",
    "    X[n] = (1.0 - np.sum(alpha[None, :] * St, axis=1)) / D[n]\n",
    "    S = St + X[n][:, None] * X[n][None, :]\n",
    "\n",
    "# Check factorization\n",
    "L = np.tril(np.dot(u, (v*X).T), -1)\n",
    "L[np.diag_indices_from(L)] = D\n",
    "\n",
    "print(\"Cholesky error: {0}\".format(np.max(np.abs(np.dot(L, L.T) - K))))\n",
    "print(2*np.sum(np.log(D)).real, np.linalg.slogdet(K))"
   ]
  },
  {
   "cell_type": "code",
   "execution_count": 28,
   "metadata": {
    "collapsed": false
   },
   "outputs": [
    {
     "name": "stdout",
     "output_type": "stream",
     "text": [
      "Forward sub error: 1.6657865655285256e-16\n",
      "Backward sub error: 2.498002032016893e-16\n",
      "Full solve error: 1.666274353858095e-16\n"
     ]
    }
   ],
   "source": [
    "y = np.array(y0)\n",
    "z = np.empty(N, dtype=alpha.dtype)\n",
    "z[0] = y[0] / D[0]\n",
    "f = 0.0\n",
    "for n in range(1, N):\n",
    "    f = phi[n-1] * (f + alpha * X[n-1] * z[n-1]) \n",
    "    z[n] = (y[n] - np.sum(f)) / D[n]\n",
    "print(\"Forward sub error: {0}\".format(np.max(np.abs(z - np.linalg.solve(L, y)))))\n",
    "\n",
    "y = np.array(z)\n",
    "z = np.empty(N, dtype=alpha.dtype)\n",
    "z[-1] = y[-1] / D[-1]\n",
    "f = 0.0\n",
    "for n in range(N-2, -1, -1):\n",
    "    f = phi[n] * (f + alpha * z[n+1]) \n",
    "    z[n] = (y[n] - np.sum(f * X[n])) / D[n]\n",
    "print(\"Backward sub error: {0}\".format(np.max(np.abs(z - np.linalg.solve(L.T, y)))))\n",
    "\n",
    "print(\"Full solve error: {0}\".format(np.max(np.abs(np.linalg.solve(K, y0) - z))))"
   ]
  },
  {
   "cell_type": "code",
   "execution_count": null,
   "metadata": {
    "collapsed": true
   },
   "outputs": [],
   "source": []
  }
 ],
 "metadata": {
  "kernelspec": {
   "display_name": "Python 3",
   "language": "python",
   "name": "python3"
  },
  "language_info": {
   "codemirror_mode": {
    "name": "ipython",
    "version": 3
   },
   "file_extension": ".py",
   "mimetype": "text/x-python",
   "name": "python",
   "nbconvert_exporter": "python",
   "pygments_lexer": "ipython3",
   "version": "3.5.3"
  }
 },
 "nbformat": 4,
 "nbformat_minor": 2
}

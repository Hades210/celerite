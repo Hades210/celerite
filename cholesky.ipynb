{
 "cells": [
  {
   "cell_type": "code",
   "execution_count": 49,
   "metadata": {
    "collapsed": false
   },
   "outputs": [
    {
     "name": "stdout",
     "output_type": "stream",
     "text": [
      "Semiseparable error: 2.5757220274214744e-14\n",
      "Cholesky error: 4.352092058577034e-14\n",
      "5.3290705182e-15\n"
     ]
    }
   ],
   "source": [
    "import numpy as np\n",
    "\n",
    "N = 10\n",
    "J = 8\n",
    "alpha = np.random.rand(J//2) + 1.0j * np.random.rand(J//2)\n",
    "alpha = np.append(alpha, np.conj(alpha))\n",
    "beta = np.random.rand(J//2) + 1.0j * np.random.rand(J//2)\n",
    "beta = np.append(beta, np.conj(beta))\n",
    "t = np.sort(np.random.uniform(0, 100, N))\n",
    "y0 = np.sin(t)\n",
    "u = alpha*np.exp(-beta * t[:, None])\n",
    "v = np.exp(beta * t[:, None])\n",
    "diag = 0.01 + np.sum(alpha).real + np.zeros(N)\n",
    "\n",
    "K = np.sum(alpha*np.exp(-beta*np.abs(t[:, None] - t[None, :])[:, :, None]), axis=-1)\n",
    "K[np.diag_indices_from(K)] = diag\n",
    "\n",
    "K0 = np.tril(np.dot(u, v.T), -1) + np.triu(np.dot(v, u.T), 1)\n",
    "K0[np.diag_indices_from(K0)] = diag\n",
    "print(\"Semiseparable error: {0}\".format(np.max(np.abs(K - K0))))\n",
    "\n",
    "# Cholesky method\n",
    "dt = np.diff(t)\n",
    "phi = np.exp(-beta * dt[:, None])\n",
    "D = np.empty(N, dtype=alpha.dtype)\n",
    "X = np.empty((N, J), dtype=alpha.dtype)\n",
    "\n",
    "# Explicit first step\n",
    "# D[0] = np.sqrt(diag[0])\n",
    "D[0] = diag[0]\n",
    "X[0] = 1.0 / D[0]\n",
    "S = X[0][:, None] * X[0][None, :] * D[0]\n",
    "\n",
    "# Then the rest\n",
    "for n in range(1, N):\n",
    "    St = phi[n-1][:, None] * phi[n-1][None, :] * S\n",
    "#     D[n] = np.sqrt(diag[n] - np.sum(alpha[None, :] * alpha[:, None] * St))\n",
    "    D[n] = diag[n] - np.sum(alpha[None, :] * alpha[:, None] * St)\n",
    "    X[n] = (1.0 - np.sum(alpha[None, :] * St, axis=1)) / D[n]\n",
    "    S = St + X[n][:, None] * X[n][None, :] * D[n]\n",
    "\n",
    "# Check factorization\n",
    "L = np.tril(np.dot(u, (v*X).T), -1)\n",
    "L[np.diag_indices_from(L)] = 1.0\n",
    "# L[np.diag_indices_from(L)] = D\n",
    "\n",
    "print(\"Cholesky error: {0}\".format(np.max(np.abs(np.dot(L, np.dot(np.diag(D), L.T)) - K))))\n",
    "print(np.sum(np.log(D)).real - np.linalg.slogdet(K)[1])"
   ]
  },
  {
   "cell_type": "code",
   "execution_count": 56,
   "metadata": {
    "collapsed": false
   },
   "outputs": [
    {
     "name": "stdout",
     "output_type": "stream",
     "text": [
      "Forward sub error: 2.692304429591852e-15\n",
      "Backward sub error: 7.771642058341631e-16\n",
      "Full solve error: 4.51055282916621e-16\n"
     ]
    }
   ],
   "source": [
    "y = np.array(y0)\n",
    "z = np.empty(N, dtype=alpha.dtype)\n",
    "z[0] = y[0] / D[0]\n",
    "f = 0.0\n",
    "for n in range(1, N):\n",
    "    f = phi[n-1] * (f + alpha * X[n-1] * z[n-1] * D[n-1]) \n",
    "    z[n] = (y[n] - np.sum(f)) / D[n]\n",
    "print(\"Forward sub error: {0}\".format(np.max(np.abs(z - np.linalg.solve(L, y) / D))))\n",
    "\n",
    "y = np.array(z)  # / D\n",
    "z = np.empty(N, dtype=alpha.dtype)\n",
    "z[-1] = y[-1]  # / D[-1]\n",
    "f = 0.0\n",
    "for n in range(N-2, -1, -1):\n",
    "    f = phi[n] * (f + alpha * z[n+1]) \n",
    "    z[n] = (y[n] - np.sum(f * X[n]))  # / D[n]\n",
    "print(\"Backward sub error: {0}\".format(np.max(np.abs(z - np.linalg.solve(L.T, y)))))\n",
    "\n",
    "print(\"Full solve error: {0}\".format(np.max(np.abs(np.linalg.solve(K, y0) - z))))"
   ]
  },
  {
   "cell_type": "code",
   "execution_count": null,
   "metadata": {
    "collapsed": true
   },
   "outputs": [],
   "source": []
  },
  {
   "cell_type": "code",
   "execution_count": 3,
   "metadata": {
    "collapsed": false
   },
   "outputs": [
    {
     "name": "stdout",
     "output_type": "stream",
     "text": [
      "Semiseparable error: 4.218847493575595e-15\n"
     ]
    }
   ],
   "source": [
    "a = 2*alpha[:J//2].real\n",
    "b = 2*alpha[:J//2].imag\n",
    "c = beta[:J//2].real\n",
    "d = beta[:J//2].imag\n",
    "tt = t[:, None]\n",
    "u2 = np.concatenate((\n",
    "    a*np.exp(-c*tt)*np.cos(d*tt),\n",
    "    a*np.exp(-c*tt)*np.sin(d*tt),\n",
    "    b*np.exp(-c*tt)*np.sin(d*tt),\n",
    "    b*np.exp(-c*tt)*np.cos(d*tt),\n",
    "), axis=1)\n",
    "v2 = np.concatenate((\n",
    "    np.exp(c*tt)*np.cos(d*tt),\n",
    "    np.exp(c*tt)*np.sin(d*tt),\n",
    "    np.exp(c*tt)*np.cos(-d*tt),\n",
    "    np.exp(c*tt)*np.sin(-d*tt),\n",
    "), axis=1)\n",
    "K2 = np.tril(np.dot(u2, v2.T), -1) + np.triu(np.dot(v2, u2.T), 1)\n",
    "K2[np.diag_indices_from(K2)] = diag\n",
    "print(\"Semiseparable error: {0}\".format(np.max(np.abs(K.real - K2))))"
   ]
  },
  {
   "cell_type": "code",
   "execution_count": 37,
   "metadata": {
    "collapsed": false
   },
   "outputs": [
    {
     "ename": "ValueError",
     "evalue": "operands could not be broadcast together with shapes (4,16) (1,4) ",
     "output_type": "error",
     "traceback": [
      "\u001b[0;31m---------------------------------------------------------------------------\u001b[0m",
      "\u001b[0;31mValueError\u001b[0m                                Traceback (most recent call last)",
      "\u001b[0;32m<ipython-input-37-2d5560768ba6>\u001b[0m in \u001b[0;36m<module>\u001b[0;34m()\u001b[0m\n\u001b[1;32m     15\u001b[0m     \u001b[0mD\u001b[0m\u001b[0;34m[\u001b[0m\u001b[0mn\u001b[0m\u001b[0;34m]\u001b[0m \u001b[0;34m=\u001b[0m \u001b[0mnp\u001b[0m\u001b[0;34m.\u001b[0m\u001b[0msqrt\u001b[0m\u001b[0;34m(\u001b[0m\u001b[0mdiag\u001b[0m\u001b[0;34m[\u001b[0m\u001b[0mn\u001b[0m\u001b[0;34m]\u001b[0m \u001b[0;34m-\u001b[0m \u001b[0mnp\u001b[0m\u001b[0;34m.\u001b[0m\u001b[0msum\u001b[0m\u001b[0;34m(\u001b[0m\u001b[0;34m(\u001b[0m\u001b[0mu\u001b[0m\u001b[0;34m.\u001b[0m\u001b[0mflatten\u001b[0m\u001b[0;34m(\u001b[0m\u001b[0;34m)\u001b[0m\u001b[0;34m[\u001b[0m\u001b[0;34m:\u001b[0m\u001b[0;34m,\u001b[0m \u001b[0;32mNone\u001b[0m\u001b[0;34m]\u001b[0m \u001b[0;34m*\u001b[0m \u001b[0mS\u001b[0m \u001b[0;34m*\u001b[0m \u001b[0mu\u001b[0m\u001b[0;34m.\u001b[0m\u001b[0mflatten\u001b[0m\u001b[0;34m(\u001b[0m\u001b[0;34m)\u001b[0m\u001b[0;34m[\u001b[0m\u001b[0;32mNone\u001b[0m\u001b[0;34m,\u001b[0m \u001b[0;34m:\u001b[0m\u001b[0;34m]\u001b[0m\u001b[0;34m)\u001b[0m\u001b[0;34m)\u001b[0m\u001b[0;34m)\u001b[0m\u001b[0;34m\u001b[0m\u001b[0m\n\u001b[1;32m     16\u001b[0m     \u001b[0mX\u001b[0m\u001b[0;34m[\u001b[0m\u001b[0mn\u001b[0m\u001b[0;34m]\u001b[0m \u001b[0;34m=\u001b[0m \u001b[0;34m(\u001b[0m\u001b[0mv\u001b[0m\u001b[0;34m.\u001b[0m\u001b[0mflatten\u001b[0m\u001b[0;34m(\u001b[0m\u001b[0;34m)\u001b[0m \u001b[0;34m-\u001b[0m \u001b[0mnp\u001b[0m\u001b[0;34m.\u001b[0m\u001b[0msum\u001b[0m\u001b[0;34m(\u001b[0m\u001b[0;34m(\u001b[0m\u001b[0mu\u001b[0m \u001b[0;34m*\u001b[0m \u001b[0mphi\u001b[0m\u001b[0;34m[\u001b[0m\u001b[0mn\u001b[0m\u001b[0;34m-\u001b[0m\u001b[0;36m1\u001b[0m\u001b[0;34m]\u001b[0m\u001b[0;34m)\u001b[0m\u001b[0;34m.\u001b[0m\u001b[0mflatten\u001b[0m\u001b[0;34m(\u001b[0m\u001b[0;34m)\u001b[0m \u001b[0;34m*\u001b[0m \u001b[0mS\u001b[0m\u001b[0;34m,\u001b[0m \u001b[0maxis\u001b[0m\u001b[0;34m=\u001b[0m\u001b[0;36m0\u001b[0m\u001b[0;34m)\u001b[0m\u001b[0;34m)\u001b[0m \u001b[0;34m/\u001b[0m \u001b[0mD\u001b[0m\u001b[0;34m[\u001b[0m\u001b[0mn\u001b[0m\u001b[0;34m]\u001b[0m\u001b[0;34m\u001b[0m\u001b[0m\n\u001b[0;32m---> 17\u001b[0;31m     \u001b[0mS\u001b[0m \u001b[0;34m=\u001b[0m \u001b[0mphi\u001b[0m\u001b[0;34m[\u001b[0m\u001b[0mn\u001b[0m\u001b[0;34m-\u001b[0m\u001b[0;36m1\u001b[0m\u001b[0;34m]\u001b[0m\u001b[0;34m[\u001b[0m\u001b[0;34m:\u001b[0m\u001b[0;34m,\u001b[0m \u001b[0;32mNone\u001b[0m\u001b[0;34m]\u001b[0m \u001b[0;34m*\u001b[0m \u001b[0mX\u001b[0m\u001b[0;34m[\u001b[0m\u001b[0mn\u001b[0m\u001b[0;34m]\u001b[0m \u001b[0;34m*\u001b[0m \u001b[0mphi\u001b[0m\u001b[0;34m[\u001b[0m\u001b[0mn\u001b[0m\u001b[0;34m-\u001b[0m\u001b[0;36m1\u001b[0m\u001b[0;34m]\u001b[0m\u001b[0;34m[\u001b[0m\u001b[0;32mNone\u001b[0m\u001b[0;34m,\u001b[0m \u001b[0;34m:\u001b[0m\u001b[0;34m]\u001b[0m\u001b[0;34m\u001b[0m\u001b[0m\n\u001b[0m\u001b[1;32m     18\u001b[0m     \u001b[0;32mbreak\u001b[0m\u001b[0;34m\u001b[0m\u001b[0m\n\u001b[1;32m     19\u001b[0m     \u001b[0mD\u001b[0m\u001b[0;34m[\u001b[0m\u001b[0mn\u001b[0m\u001b[0;34m]\u001b[0m \u001b[0;34m=\u001b[0m \u001b[0mnp\u001b[0m\u001b[0;34m.\u001b[0m\u001b[0msqrt\u001b[0m\u001b[0;34m(\u001b[0m\u001b[0;34m)\u001b[0m\u001b[0;34m\u001b[0m\u001b[0m\n",
      "\u001b[0;31mValueError\u001b[0m: operands could not be broadcast together with shapes (4,16) (1,4) "
     ]
    }
   ],
   "source": [
    "dt = np.diff(t)\n",
    "phi = np.exp(-c * dt[:, None])\n",
    "\n",
    "D = np.empty(N)\n",
    "X = np.empty((N, 2*J))\n",
    "\n",
    "D[0] = np.sqrt(diag[0])\n",
    "X[0] = 1.0 / D[0]\n",
    "S = X[0][:, None] * X[0][None, :]\n",
    "\n",
    "for n in range(1, N):\n",
    "    u = a * phi[n-1] * np.array([np.cos(d * t[n]), np.sin(d * t[n]), np.sin(d * t[n]), np.cos(d * t[n])])\n",
    "    v = a * phi[n-1] * np.array([np.cos(d * t[n]), np.sin(d * t[n]), np.cos(d * t[n]), -np.sin(d * t[n])])\n",
    "\n",
    "    D[n] = np.sqrt(diag[n] - np.sum((u.flatten()[:, None] * S * u.flatten()[None, :])))\n",
    "    X[n] = (v.flatten() - np.sum((u * phi[n-1]).flatten() * S, axis=0)) / D[n]\n",
    "    S = phi[n-1][:, None] * X[n] * phi[n-1][None, :]\n",
    "    break\n",
    "    D[n] = np.sqrt()"
   ]
  },
  {
   "cell_type": "code",
   "execution_count": null,
   "metadata": {
    "collapsed": true
   },
   "outputs": [],
   "source": []
  }
 ],
 "metadata": {
  "kernelspec": {
   "display_name": "Python 3",
   "language": "python",
   "name": "python3"
  },
  "language_info": {
   "codemirror_mode": {
    "name": "ipython",
    "version": 3
   },
   "file_extension": ".py",
   "mimetype": "text/x-python",
   "name": "python",
   "nbconvert_exporter": "python",
   "pygments_lexer": "ipython3",
   "version": "3.5.3"
  }
 },
 "nbformat": 4,
 "nbformat_minor": 2
}
